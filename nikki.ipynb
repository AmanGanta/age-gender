{
 "cells": [
  {
   "cell_type": "code",
   "execution_count": 1,
   "id": "46f0e5b8",
   "metadata": {},
   "outputs": [],
   "source": [
    "# importing the important libraries\n",
    "import numpy as np\n",
    "import pandas as pd\n",
    "import matplotlib.pyplot as plt\n",
    "import seaborn as sns\n",
    "sns.set_style('darkgrid')\n",
    "%matplotlib inline"
   ]
  },
  {
   "cell_type": "code",
   "execution_count": 26,
   "id": "6621a2b0",
   "metadata": {},
   "outputs": [],
   "source": [
    "df = pd.read_csv(r\"C:\\Users\\91832\\Downloads\\age_gender.csv\\age_gender.csv\")\n",
    "df=df.drop(\"ethnicity\",axis=1)"
   ]
  },
  {
   "cell_type": "code",
   "execution_count": 27,
   "id": "dc32ee44",
   "metadata": {},
   "outputs": [
    {
     "data": {
      "text/html": [
       "<div>\n",
       "<style scoped>\n",
       "    .dataframe tbody tr th:only-of-type {\n",
       "        vertical-align: middle;\n",
       "    }\n",
       "\n",
       "    .dataframe tbody tr th {\n",
       "        vertical-align: top;\n",
       "    }\n",
       "\n",
       "    .dataframe thead th {\n",
       "        text-align: right;\n",
       "    }\n",
       "</style>\n",
       "<table border=\"1\" class=\"dataframe\">\n",
       "  <thead>\n",
       "    <tr style=\"text-align: right;\">\n",
       "      <th></th>\n",
       "      <th>age</th>\n",
       "      <th>gender</th>\n",
       "      <th>img_name</th>\n",
       "      <th>pixels</th>\n",
       "    </tr>\n",
       "  </thead>\n",
       "  <tbody>\n",
       "    <tr>\n",
       "      <th>0</th>\n",
       "      <td>1</td>\n",
       "      <td>0</td>\n",
       "      <td>20161219203650636.jpg.chip.jpg</td>\n",
       "      <td>129 128 128 126 127 130 133 135 139 142 145 14...</td>\n",
       "    </tr>\n",
       "    <tr>\n",
       "      <th>1</th>\n",
       "      <td>1</td>\n",
       "      <td>0</td>\n",
       "      <td>20161219222752047.jpg.chip.jpg</td>\n",
       "      <td>164 74 111 168 169 171 175 182 184 188 193 199...</td>\n",
       "    </tr>\n",
       "    <tr>\n",
       "      <th>2</th>\n",
       "      <td>1</td>\n",
       "      <td>0</td>\n",
       "      <td>20161219222832191.jpg.chip.jpg</td>\n",
       "      <td>67 70 71 70 69 67 70 79 90 103 116 132 145 155...</td>\n",
       "    </tr>\n",
       "    <tr>\n",
       "      <th>3</th>\n",
       "      <td>1</td>\n",
       "      <td>0</td>\n",
       "      <td>20161220144911423.jpg.chip.jpg</td>\n",
       "      <td>193 197 198 200 199 200 202 203 204 205 208 21...</td>\n",
       "    </tr>\n",
       "    <tr>\n",
       "      <th>4</th>\n",
       "      <td>1</td>\n",
       "      <td>0</td>\n",
       "      <td>20161220144914327.jpg.chip.jpg</td>\n",
       "      <td>202 205 209 210 209 209 210 211 212 214 218 21...</td>\n",
       "    </tr>\n",
       "  </tbody>\n",
       "</table>\n",
       "</div>"
      ],
      "text/plain": [
       "   age  gender                        img_name  \\\n",
       "0    1       0  20161219203650636.jpg.chip.jpg   \n",
       "1    1       0  20161219222752047.jpg.chip.jpg   \n",
       "2    1       0  20161219222832191.jpg.chip.jpg   \n",
       "3    1       0  20161220144911423.jpg.chip.jpg   \n",
       "4    1       0  20161220144914327.jpg.chip.jpg   \n",
       "\n",
       "                                              pixels  \n",
       "0  129 128 128 126 127 130 133 135 139 142 145 14...  \n",
       "1  164 74 111 168 169 171 175 182 184 188 193 199...  \n",
       "2  67 70 71 70 69 67 70 79 90 103 116 132 145 155...  \n",
       "3  193 197 198 200 199 200 202 203 204 205 208 21...  \n",
       "4  202 205 209 210 209 209 210 211 212 214 218 21...  "
      ]
     },
     "execution_count": 27,
     "metadata": {},
     "output_type": "execute_result"
    }
   ],
   "source": [
    "df.head()"
   ]
  },
  {
   "cell_type": "code",
   "execution_count": 5,
   "id": "4f79d33b",
   "metadata": {},
   "outputs": [
    {
     "name": "stdout",
     "output_type": "stream",
     "text": [
      "<class 'pandas.core.frame.DataFrame'>\n",
      "RangeIndex: 23705 entries, 0 to 23704\n",
      "Data columns (total 4 columns):\n",
      " #   Column    Non-Null Count  Dtype \n",
      "---  ------    --------------  ----- \n",
      " 0   age       23705 non-null  int64 \n",
      " 1   gender    23705 non-null  int64 \n",
      " 2   img_name  23705 non-null  object\n",
      " 3   pixels    23705 non-null  object\n",
      "dtypes: int64(2), object(2)\n",
      "memory usage: 740.9+ KB\n"
     ]
    },
    {
     "data": {
      "text/plain": [
       "(23705, 4)"
      ]
     },
     "execution_count": 5,
     "metadata": {},
     "output_type": "execute_result"
    }
   ],
   "source": [
    "df.info()\n",
    "#check dataframe shape\n",
    "df.shape"
   ]
  },
  {
   "cell_type": "code",
   "execution_count": 7,
   "id": "d461f592",
   "metadata": {},
   "outputs": [
    {
     "data": {
      "text/plain": [
       "0"
      ]
     },
     "execution_count": 7,
     "metadata": {},
     "output_type": "execute_result"
    }
   ],
   "source": [
    "#check if there are dublicated records\n",
    "df.duplicated()\n",
    "df.duplicated().sum()\n"
   ]
  },
  {
   "cell_type": "code",
   "execution_count": 6,
   "id": "5243d21c",
   "metadata": {},
   "outputs": [
    {
     "name": "stdout",
     "output_type": "stream",
     "text": [
      "26     2197\n",
      "1      1123\n",
      "28      918\n",
      "35      880\n",
      "24      859\n",
      "       ... \n",
      "115       3\n",
      "101       2\n",
      "91        2\n",
      "111       1\n",
      "103       1\n",
      "Name: age, Length: 104, dtype: int64\n",
      "0    12391\n",
      "1    11314\n",
      "Name: gender, dtype: int64\n"
     ]
    }
   ],
   "source": [
    "print(df[\"age\"].value_counts())\n",
    "print(df[\"gender\"].value_counts())"
   ]
  },
  {
   "cell_type": "code",
   "execution_count": 7,
   "id": "49d1bd9d",
   "metadata": {},
   "outputs": [
    {
     "data": {
      "text/plain": [
       "<AxesSubplot:>"
      ]
     },
     "execution_count": 7,
     "metadata": {},
     "output_type": "execute_result"
    },
    {
     "data": {
      "image/png": "[encoded data removed]",
      "text/plain": [
       "<Figure size 432x288 with 2 Axes>"
      ]
     },
     "metadata": {
      "needs_background": "light"
     },
     "output_type": "display_data"
    }
   ],
   "source": [
    "#checking for correlation \n",
    "corr = df.corr()\n",
    "sns.heatmap(corr)\n",
    "#no correlation"
   ]
  },
  {
   "cell_type": "code",
   "execution_count": null,
   "id": "ea39a977",
   "metadata": {},
   "outputs": [],
   "source": []
  },
  {
   "cell_type": "code",
   "execution_count": 9,
   "id": "07aeb44e",
   "metadata": {},
   "outputs": [
    {
     "data": {
      "image/png": "[encoded data removed]",
      "text/plain": [
       "<Figure size 1440x576 with 1 Axes>"
      ]
     },
     "metadata": {
      "needs_background": "light"
     },
     "output_type": "display_data"
    }
   ],
   "source": [
    "plt.figure(figsize=(20,8))\n",
    "plt.xticks(rotation=90)\n",
    "ax = sns.countplot(x=df.age)\n",
    "ax.set_title(\"counter for each age\")\n",
    "plt.show()"
   ]
  },
  {
   "cell_type": "code",
   "execution_count": 10,
   "id": "1ab973b3",
   "metadata": {},
   "outputs": [
    {
     "data": {
      "image/png": "[encoded data removed]",
      "text/plain": [
       "<Figure size 576x360 with 1 Axes>"
      ]
     },
     "metadata": {
      "needs_background": "light"
     },
     "output_type": "display_data"
    }
   ],
   "source": [
    "plt.figure(figsize=(8,5))\n",
    "plt.xticks(rotation=90)\n",
    "ax = sns.countplot(x=df.gender)\n",
    "ax.set_title(\"counter for each gender\")\n",
    "plt.show()"
   ]
  },
  {
   "cell_type": "code",
   "execution_count": 4,
   "id": "300ec411",
   "metadata": {},
   "outputs": [],
   "source": [
    "from sklearn.metrics import confusion_matrix\n",
    "import itertools\n",
    "import tensorflow as tf\n",
    "import plotly.express as px\n",
    "from tensorflow.keras.preprocessing.image import ImageDataGenerator\n",
    "from tensorflow.keras.utils import to_categorical # convert to one-hot-encoding\n",
    "from tensorflow.keras.models import Sequential\n",
    "from tensorflow.keras.layers import Dense, Dropout, Flatten, Conv2D, MaxPool2D, BatchNormalization, InputLayer\n",
    "from tensorflow.keras.optimizers import RMSprop,Adam\n",
    "from tensorflow.keras.preprocessing.image import ImageDataGenerator\n",
    "from tensorflow.keras.callbacks import ReduceLROnPlateau, EarlyStopping\n",
    "from tensorflow.keras.losses import BinaryCrossentropy, SparseCategoricalCrossentropy"
   ]
  },
  {
   "cell_type": "code",
   "execution_count": 28,
   "id": "a87ac781",
   "metadata": {},
   "outputs": [],
   "source": [
    "columns = [\"age\",\"gender\"]\n",
    "y = df.drop([\"pixels\",\"img_name\"], axis = 1)\n",
    "x = df.drop([\"age\",\"gender\",'img_name'], axis = 1)"
   ]
  },
  {
   "cell_type": "code",
   "execution_count": 29,
   "id": "729952eb",
   "metadata": {},
   "outputs": [
    {
     "data": {
      "text/html": [
       "<div>\n",
       "<style scoped>\n",
       "    .dataframe tbody tr th:only-of-type {\n",
       "        vertical-align: middle;\n",
       "    }\n",
       "\n",
       "    .dataframe tbody tr th {\n",
       "        vertical-align: top;\n",
       "    }\n",
       "\n",
       "    .dataframe thead th {\n",
       "        text-align: right;\n",
       "    }\n",
       "</style>\n",
       "<table border=\"1\" class=\"dataframe\">\n",
       "  <thead>\n",
       "    <tr style=\"text-align: right;\">\n",
       "      <th></th>\n",
       "      <th>age</th>\n",
       "      <th>gender</th>\n",
       "    </tr>\n",
       "  </thead>\n",
       "  <tbody>\n",
       "    <tr>\n",
       "      <th>0</th>\n",
       "      <td>1</td>\n",
       "      <td>0</td>\n",
       "    </tr>\n",
       "    <tr>\n",
       "      <th>1</th>\n",
       "      <td>1</td>\n",
       "      <td>0</td>\n",
       "    </tr>\n",
       "    <tr>\n",
       "      <th>2</th>\n",
       "      <td>1</td>\n",
       "      <td>0</td>\n",
       "    </tr>\n",
       "    <tr>\n",
       "      <th>3</th>\n",
       "      <td>1</td>\n",
       "      <td>0</td>\n",
       "    </tr>\n",
       "    <tr>\n",
       "      <th>4</th>\n",
       "      <td>1</td>\n",
       "      <td>0</td>\n",
       "    </tr>\n",
       "  </tbody>\n",
       "</table>\n",
       "</div>"
      ],
      "text/plain": [
       "   age  gender\n",
       "0    1       0\n",
       "1    1       0\n",
       "2    1       0\n",
       "3    1       0\n",
       "4    1       0"
      ]
     },
     "execution_count": 29,
     "metadata": {},
     "output_type": "execute_result"
    }
   ],
   "source": [
    "y.head()"
   ]
  },
  {
   "cell_type": "code",
   "execution_count": 30,
   "id": "6ffcd66a",
   "metadata": {},
   "outputs": [
    {
     "data": {
      "text/html": [
       "<div>\n",
       "<style scoped>\n",
       "    .dataframe tbody tr th:only-of-type {\n",
       "        vertical-align: middle;\n",
       "    }\n",
       "\n",
       "    .dataframe tbody tr th {\n",
       "        vertical-align: top;\n",
       "    }\n",
       "\n",
       "    .dataframe thead th {\n",
       "        text-align: right;\n",
       "    }\n",
       "</style>\n",
       "<table border=\"1\" class=\"dataframe\">\n",
       "  <thead>\n",
       "    <tr style=\"text-align: right;\">\n",
       "      <th></th>\n",
       "      <th>pixels</th>\n",
       "    </tr>\n",
       "  </thead>\n",
       "  <tbody>\n",
       "    <tr>\n",
       "      <th>0</th>\n",
       "      <td>129 128 128 126 127 130 133 135 139 142 145 14...</td>\n",
       "    </tr>\n",
       "    <tr>\n",
       "      <th>1</th>\n",
       "      <td>164 74 111 168 169 171 175 182 184 188 193 199...</td>\n",
       "    </tr>\n",
       "    <tr>\n",
       "      <th>2</th>\n",
       "      <td>67 70 71 70 69 67 70 79 90 103 116 132 145 155...</td>\n",
       "    </tr>\n",
       "    <tr>\n",
       "      <th>3</th>\n",
       "      <td>193 197 198 200 199 200 202 203 204 205 208 21...</td>\n",
       "    </tr>\n",
       "    <tr>\n",
       "      <th>4</th>\n",
       "      <td>202 205 209 210 209 209 210 211 212 214 218 21...</td>\n",
       "    </tr>\n",
       "    <tr>\n",
       "      <th>...</th>\n",
       "      <td>...</td>\n",
       "    </tr>\n",
       "    <tr>\n",
       "      <th>23700</th>\n",
       "      <td>127 100 94 81 77 77 74 99 102 98 128 145 160 1...</td>\n",
       "    </tr>\n",
       "    <tr>\n",
       "      <th>23701</th>\n",
       "      <td>23 28 32 35 42 47 68 85 98 103 113 117 130 129...</td>\n",
       "    </tr>\n",
       "    <tr>\n",
       "      <th>23702</th>\n",
       "      <td>59 50 37 40 34 19 30 101 156 170 177 184 187 1...</td>\n",
       "    </tr>\n",
       "    <tr>\n",
       "      <th>23703</th>\n",
       "      <td>45 108 120 156 206 197 140 180 191 199 204 207...</td>\n",
       "    </tr>\n",
       "    <tr>\n",
       "      <th>23704</th>\n",
       "      <td>156 161 160 165 170 173 166 177 183 191 187 18...</td>\n",
       "    </tr>\n",
       "  </tbody>\n",
       "</table>\n",
       "<p>23705 rows × 1 columns</p>\n",
       "</div>"
      ],
      "text/plain": [
       "                                                  pixels\n",
       "0      129 128 128 126 127 130 133 135 139 142 145 14...\n",
       "1      164 74 111 168 169 171 175 182 184 188 193 199...\n",
       "2      67 70 71 70 69 67 70 79 90 103 116 132 145 155...\n",
       "3      193 197 198 200 199 200 202 203 204 205 208 21...\n",
       "4      202 205 209 210 209 209 210 211 212 214 218 21...\n",
       "...                                                  ...\n",
       "23700  127 100 94 81 77 77 74 99 102 98 128 145 160 1...\n",
       "23701  23 28 32 35 42 47 68 85 98 103 113 117 130 129...\n",
       "23702  59 50 37 40 34 19 30 101 156 170 177 184 187 1...\n",
       "23703  45 108 120 156 206 197 140 180 191 199 204 207...\n",
       "23704  156 161 160 165 170 173 166 177 183 191 187 18...\n",
       "\n",
       "[23705 rows x 1 columns]"
      ]
     },
     "execution_count": 30,
     "metadata": {},
     "output_type": "execute_result"
    }
   ],
   "source": [
    "x"
   ]
  },
  {
   "cell_type": "code",
   "execution_count": 31,
   "id": "0374da54",
   "metadata": {},
   "outputs": [
    {
     "name": "stdout",
     "output_type": "stream",
     "text": [
      "2304 48 48\n"
     ]
    }
   ],
   "source": [
    "num_pixels = len(x['pixels'][0].split(\" \"))\n",
    "img_height = int(np.sqrt(len(x['pixels'][0].split(\" \"))))\n",
    "img_width = int(np.sqrt(len(x['pixels'][0].split(\" \"))))\n",
    "print(num_pixels, img_height, img_width)"
   ]
  },
  {
   "cell_type": "code",
   "execution_count": 10,
   "id": "ce6435ab",
   "metadata": {},
   "outputs": [
    {
     "name": "stderr",
     "output_type": "stream",
     "text": [
      "C:\\Users\\91832\\AppData\\Local\\Temp/ipykernel_72344/3119434224.py:3: DeprecationWarning: `np.int` is a deprecated alias for the builtin `int`. To silence this warning, use `int` by itself. Doing this will not modify any behavior and is safe. When replacing `np.int`, you may wish to use e.g. `np.int64` or `np.int32` to specify the precision. If you wish to review your current use, check the release note link for additional information.\n",
      "Deprecated in NumPy 1.20; for more details and guidance: https://numpy.org/devdocs/release/1.20.0-notes.html#deprecations\n",
      "  x = x.apply(lambda x: np.array(list(map(lambda z: np.int(z), x))))\n"
     ]
    }
   ],
   "source": [
    "x = pd.Series(x[\"pixels\"])\n",
    "x = x.apply(lambda x: x.split(' '))\n",
    "x = x.apply(lambda x: np.array(list(map(lambda z: np.int(z), x))))\n",
    "x = np.array(x)\n",
    "x = np.stack(np.array(x), axis=0)\n",
    "x = np.reshape(x, (-1, 48, 48))\n",
    "\n",
    "# reshape data\n",
    "x = x.reshape(-1,48,48,1)"
   ]
  },
  {
   "cell_type": "code",
   "execution_count": 26,
   "id": "835a8a86",
   "metadata": {},
   "outputs": [
    {
     "name": "stdout",
     "output_type": "stream",
     "text": [
      "[[0. 1. 0. ... 0. 0. 0.]\n",
      " [0. 1. 0. ... 0. 0. 0.]\n",
      " [0. 1. 0. ... 0. 0. 0.]\n",
      " ...\n",
      " [0. 0. 0. ... 0. 0. 0.]\n",
      " [0. 0. 0. ... 0. 0. 0.]\n",
      " [0. 0. 0. ... 0. 0. 0.]] [[1. 0.]\n",
      " [1. 0.]\n",
      " [1. 0.]\n",
      " ...\n",
      " [0. 1.]\n",
      " [0. 1.]\n",
      " [0. 1.]]\n"
     ]
    }
   ],
   "source": [
    "age_matrix = np.array(y[\"age\"]) \n",
    "gender_matrix = np.array(y[\"gender\"])\n",
    "age = to_categorical(age_matrix)\n",
    "gender = to_categorical(y[\"gender\"])\n",
    "print(age, gender)"
   ]
  },
  {
   "cell_type": "code",
   "execution_count": 27,
   "id": "3df7f892",
   "metadata": {},
   "outputs": [],
   "source": [
    "x = x / 255.0\n"
   ]
  },
  {
   "cell_type": "code",
   "execution_count": 28,
   "id": "59f75c1d",
   "metadata": {},
   "outputs": [],
   "source": [
    "datagen = ImageDataGenerator(\n",
    "        featurewise_center=False,  # set input mean to 0 over the dataset\n",
    "        samplewise_center=False,  # set each sample mean to 0\n",
    "        featurewise_std_normalization=False,  # divide inputs by std of the dataset\n",
    "        samplewise_std_normalization=False,  # divide each input by its std\n",
    "        zca_whitening=False,  # dimesion reduction\n",
    "        rotation_range=5,  # randomly rotate images in the range 5 degrees\n",
    "        zoom_range = 0.1, # Randomly zoom image 10%\n",
    "        width_shift_range=0.1,  # randomly shift images horizontally 10%\n",
    "        height_shift_range=0.1,  # randomly shift images vertically 10%\n",
    "        horizontal_flip=False,  # randomly flip images\n",
    "        vertical_flip=False)  # randomly flip images\n",
    "\n",
    "datagen.fit(x)"
   ]
  },
  {
   "cell_type": "code",
   "execution_count": 29,
   "id": "0541a81b",
   "metadata": {},
   "outputs": [],
   "source": [
    "from sklearn.model_selection import train_test_split\n",
    "X_train_gender, X_test_gender, y_train_gender, y_test_gender = train_test_split(x, gender, test_size= 0.3)\n",
    "X_train_age, X_test_age, y_train_age, y_test_age = train_test_split(x, age, test_size= 0.3)"
   ]
  },
  {
   "cell_type": "code",
   "execution_count": null,
   "id": "3fb14017",
   "metadata": {},
   "outputs": [],
   "source": []
  },
  {
   "cell_type": "code",
   "execution_count": 50,
   "id": "718206f3",
   "metadata": {},
   "outputs": [],
   "source": [
    "def my_model(num_classes, activation, loss):\n",
    "    model = Sequential() \n",
    "    model.add(Conv2D(32, kernel_size=(3, 3), activation='relu', padding = \"same\", input_shape=(48,48,1)))\n",
    "    model.add(MaxPool2D(pool_size=(2, 2)))\n",
    "    model.add(Conv2D(64, kernel_size=(3, 3), activation='relu', padding = \"same\"))\n",
    "    model.add(MaxPool2D(pool_size=(2, 2)))\n",
    "    model.add(Conv2D(64, kernel_size=(3, 3), activation='relu', padding = \"same\"))\n",
    "    model.add(MaxPool2D(pool_size=(3,3)))\n",
    "    model.add(Conv2D(64, kernel_size=(3, 3), activation='relu', padding = \"same\"))\n",
    "    model.add(MaxPool2D(pool_size=(2, 2)))\n",
    "    model.add(Flatten())\n",
    "    model.add(Dense(256, activation='relu'))\n",
    "    model.add(Dense(num_classes, activation= activation))\n",
    "    model.compile(optimizer='Adam',\n",
    "              loss= loss,\n",
    "              metrics=['accuracy'])\n",
    "    return model"
   ]
  },
  {
   "cell_type": "code",
   "execution_count": 51,
   "id": "a5903b23",
   "metadata": {},
   "outputs": [],
   "source": [
    "early_stopping = EarlyStopping(patience=10, min_delta=0.0001,restore_best_weights=True)\n",
    "\n",
    "learning_rate_reduction = ReduceLROnPlateau(monitor='val_acc', patience=3, verbose=1, \n",
    "                                            factor=0.5, min_lr=0.00001)"
   ]
  },
  {
   "cell_type": "code",
   "execution_count": 52,
   "id": "164e8721",
   "metadata": {},
   "outputs": [
    {
     "name": "stdout",
     "output_type": "stream",
     "text": [
      "Epoch 1/20\n",
      "259/259 [==============================] - ETA: 0s - loss: 0.6937 - accuracy: 0.5152WARNING:tensorflow:Learning rate reduction is conditioned on metric `val_acc` which is not available. Available metrics are: loss,accuracy,val_loss,val_accuracy,lr\n",
      "259/259 [==============================] - 73s 275ms/step - loss: 0.6937 - accuracy: 0.5152 - val_loss: 0.6919 - val_accuracy: 0.5271 - lr: 0.0010\n",
      "Epoch 2/20\n",
      "259/259 [==============================] - ETA: 0s - loss: 0.6925 - accuracy: 0.5207WARNING:tensorflow:Learning rate reduction is conditioned on metric `val_acc` which is not available. Available metrics are: loss,accuracy,val_loss,val_accuracy,lr\n",
      "259/259 [==============================] - 67s 260ms/step - loss: 0.6925 - accuracy: 0.5207 - val_loss: 0.6917 - val_accuracy: 0.5271 - lr: 0.0010\n",
      "Epoch 3/20\n",
      "259/259 [==============================] - ETA: 0s - loss: 0.6927 - accuracy: 0.5193WARNING:tensorflow:Learning rate reduction is conditioned on metric `val_acc` which is not available. Available metrics are: loss,accuracy,val_loss,val_accuracy,lr\n",
      "259/259 [==============================] - 66s 255ms/step - loss: 0.6927 - accuracy: 0.5193 - val_loss: 0.6968 - val_accuracy: 0.5271 - lr: 0.0010\n",
      "Epoch 4/20\n",
      "259/259 [==============================] - ETA: 0s - loss: 0.6924 - accuracy: 0.5210WARNING:tensorflow:Learning rate reduction is conditioned on metric `val_acc` which is not available. Available metrics are: loss,accuracy,val_loss,val_accuracy,lr\n",
      "259/259 [==============================] - 67s 260ms/step - loss: 0.6924 - accuracy: 0.5210 - val_loss: 0.7290 - val_accuracy: 0.4729 - lr: 0.0010\n",
      "Epoch 5/20\n",
      "259/259 [==============================] - ETA: 0s - loss: 0.6923 - accuracy: 0.5212WARNING:tensorflow:Learning rate reduction is conditioned on metric `val_acc` which is not available. Available metrics are: loss,accuracy,val_loss,val_accuracy,lr\n",
      "259/259 [==============================] - 69s 266ms/step - loss: 0.6923 - accuracy: 0.5212 - val_loss: 0.6921 - val_accuracy: 0.5271 - lr: 0.0010\n",
      "Epoch 6/20\n",
      "259/259 [==============================] - ETA: 0s - loss: 0.6924 - accuracy: 0.5205WARNING:tensorflow:Learning rate reduction is conditioned on metric `val_acc` which is not available. Available metrics are: loss,accuracy,val_loss,val_accuracy,lr\n",
      "259/259 [==============================] - 67s 258ms/step - loss: 0.6924 - accuracy: 0.5205 - val_loss: 0.6918 - val_accuracy: 0.5271 - lr: 0.0010\n",
      "Epoch 7/20\n",
      "259/259 [==============================] - ETA: 0s - loss: 0.6924 - accuracy: 0.5211WARNING:tensorflow:Learning rate reduction is conditioned on metric `val_acc` which is not available. Available metrics are: loss,accuracy,val_loss,val_accuracy,lr\n",
      "259/259 [==============================] - 66s 257ms/step - loss: 0.6924 - accuracy: 0.5211 - val_loss: 0.6918 - val_accuracy: 0.5271 - lr: 0.0010\n",
      "Epoch 8/20\n",
      "259/259 [==============================] - ETA: 0s - loss: 0.6923 - accuracy: 0.5216WARNING:tensorflow:Learning rate reduction is conditioned on metric `val_acc` which is not available. Available metrics are: loss,accuracy,val_loss,val_accuracy,lr\n",
      "259/259 [==============================] - 68s 262ms/step - loss: 0.6923 - accuracy: 0.5216 - val_loss: 0.6917 - val_accuracy: 0.5271 - lr: 0.0010\n",
      "Epoch 9/20\n",
      "259/259 [==============================] - ETA: 0s - loss: 0.6924 - accuracy: 0.5197WARNING:tensorflow:Learning rate reduction is conditioned on metric `val_acc` which is not available. Available metrics are: loss,accuracy,val_loss,val_accuracy,lr\n",
      "259/259 [==============================] - 67s 261ms/step - loss: 0.6924 - accuracy: 0.5197 - val_loss: 0.6918 - val_accuracy: 0.5271 - lr: 0.0010\n",
      "Epoch 10/20\n",
      "259/259 [==============================] - ETA: 0s - loss: 0.6923 - accuracy: 0.5215WARNING:tensorflow:Learning rate reduction is conditioned on metric `val_acc` which is not available. Available metrics are: loss,accuracy,val_loss,val_accuracy,lr\n",
      "259/259 [==============================] - 66s 255ms/step - loss: 0.6923 - accuracy: 0.5215 - val_loss: 0.6918 - val_accuracy: 0.5271 - lr: 0.0010\n",
      "Epoch 11/20\n",
      "259/259 [==============================] - ETA: 0s - loss: 0.6924 - accuracy: 0.5195WARNING:tensorflow:Learning rate reduction is conditioned on metric `val_acc` which is not available. Available metrics are: loss,accuracy,val_loss,val_accuracy,lr\n",
      "259/259 [==============================] - 67s 257ms/step - loss: 0.6924 - accuracy: 0.5195 - val_loss: 0.6917 - val_accuracy: 0.5271 - lr: 0.0010\n",
      "Epoch 12/20\n",
      "259/259 [==============================] - ETA: 0s - loss: 0.6924 - accuracy: 0.5218WARNING:tensorflow:Learning rate reduction is conditioned on metric `val_acc` which is not available. Available metrics are: loss,accuracy,val_loss,val_accuracy,lr\n",
      "259/259 [==============================] - 72s 277ms/step - loss: 0.6924 - accuracy: 0.5218 - val_loss: 0.6918 - val_accuracy: 0.5271 - lr: 0.0010\n"
     ]
    }
   ],
   "source": [
    "model_gender = my_model(2, \"sigmoid\", \"binary_crossentropy\")\n",
    "history_gender = model_gender.fit(X_train_gender, y_train_gender, batch_size=64,\n",
    "                              epochs = 20, validation_data = (X_test_gender,y_test_gender), steps_per_epoch= X_train_gender.shape[0] // 64, callbacks= [early_stopping, learning_rate_reduction])"
   ]
  },
  {
   "cell_type": "code",
   "execution_count": null,
   "id": "2065cdeb",
   "metadata": {},
   "outputs": [],
   "source": [
    "from keras.models import load_model\n",
    "\n",
    "model_gender.save('modelgender5.model')"
   ]
  },
  {
   "cell_type": "code",
   "execution_count": null,
   "id": "14e09c47",
   "metadata": {},
   "outputs": [],
   "source": [
    "from keras.models import load_model\n",
    "\n",
    "model_age.save('modelage5.model')"
   ]
  },
  {
   "cell_type": "code",
   "execution_count": null,
   "id": "f8b54c63",
   "metadata": {},
   "outputs": [],
   "source": []
  },
  {
   "cell_type": "code",
   "execution_count": null,
   "id": "895e96f5",
   "metadata": {},
   "outputs": [],
   "source": []
  },
  {
   "cell_type": "code",
   "execution_count": null,
   "id": "787ac362",
   "metadata": {},
   "outputs": [],
   "source": []
  },
  {
   "cell_type": "code",
   "execution_count": null,
   "id": "717d368c",
   "metadata": {},
   "outputs": [],
   "source": []
  },
  {
   "cell_type": "code",
   "execution_count": null,
   "id": "4d831173",
   "metadata": {},
   "outputs": [],
   "source": []
  },
  {
   "cell_type": "code",
   "execution_count": null,
   "id": "6c5c0a3f",
   "metadata": {},
   "outputs": [],
   "source": []
  },
  {
   "cell_type": "code",
   "execution_count": 34,
   "id": "7fd38371",
   "metadata": {},
   "outputs": [],
   "source": []
  },
  {
   "cell_type": "code",
   "execution_count": null,
   "id": "a661adce",
   "metadata": {},
   "outputs": [],
   "source": []
  },
  {
   "cell_type": "code",
   "execution_count": 36,
   "id": "2e6047e0",
   "metadata": {},
   "outputs": [],
   "source": [
    "\n"
   ]
  },
  {
   "cell_type": "code",
   "execution_count": null,
   "id": "c45304d6",
   "metadata": {},
   "outputs": [],
   "source": []
  },
  {
   "cell_type": "code",
   "execution_count": null,
   "id": "d475c79f",
   "metadata": {},
   "outputs": [],
   "source": []
  },
  {
   "cell_type": "code",
   "execution_count": null,
   "id": "db286369",
   "metadata": {},
   "outputs": [],
   "source": []
  },
  {
   "cell_type": "code",
   "execution_count": null,
   "id": "02f0b3fc",
   "metadata": {},
   "outputs": [],
   "source": []
  },
  {
   "cell_type": "code",
   "execution_count": null,
   "id": "581f0c2c",
   "metadata": {},
   "outputs": [],
   "source": []
  },
  {
   "cell_type": "code",
   "execution_count": null,
   "id": "f5de4a3d",
   "metadata": {},
   "outputs": [],
   "source": []
  },
  {
   "cell_type": "code",
   "execution_count": null,
   "id": "070f505e",
   "metadata": {},
   "outputs": [],
   "source": []
  },
  {
   "cell_type": "code",
   "execution_count": null,
   "id": "09329209",
   "metadata": {},
   "outputs": [],
   "source": []
  },
  {
   "cell_type": "code",
   "execution_count": null,
   "id": "2ecc6e16",
   "metadata": {},
   "outputs": [],
   "source": []
  },
  {
   "cell_type": "code",
   "execution_count": null,
   "id": "c930bd4f",
   "metadata": {},
   "outputs": [],
   "source": []
  },
  {
   "cell_type": "code",
   "execution_count": 15,
   "id": "5a93fdcd",
   "metadata": {},
   "outputs": [],
   "source": []
  },
  {
   "cell_type": "code",
   "execution_count": null,
   "id": "3790a3f4",
   "metadata": {},
   "outputs": [],
   "source": []
  },
  {
   "cell_type": "code",
   "execution_count": null,
   "id": "68688996",
   "metadata": {},
   "outputs": [],
   "source": []
  },
  {
   "cell_type": "code",
   "execution_count": null,
   "id": "59afcb6b",
   "metadata": {},
   "outputs": [],
   "source": []
  },
  {
   "cell_type": "code",
   "execution_count": null,
   "id": "c5c948a6",
   "metadata": {},
   "outputs": [],
   "source": []
  },
  {
   "cell_type": "code",
   "execution_count": null,
   "id": "7ab80eb2",
   "metadata": {},
   "outputs": [],
   "source": []
  },
  {
   "cell_type": "code",
   "execution_count": 20,
   "id": "3a8d6aeb",
   "metadata": {},
   "outputs": [],
   "source": [
    "import numpy as np\n",
    "import pandas as pd\n",
    "from pathlib import Path\n",
    "import os.path\n",
    "\n",
    "from sklearn.model_selection import train_test_split\n",
    "\n",
    "import tensorflow as tf\n",
    "\n",
    "from sklearn.metrics import r2_score\n"
   ]
  },
  {
   "cell_type": "code",
   "execution_count": 21,
   "id": "4d38c267",
   "metadata": {},
   "outputs": [
    {
     "name": "stderr",
     "output_type": "stream",
     "text": [
      "C:\\Users\\91832\\AppData\\Local\\Temp/ipykernel_15256/3366927739.py:3: DeprecationWarning: `np.int` is a deprecated alias for the builtin `int`. To silence this warning, use `int` by itself. Doing this will not modify any behavior and is safe. When replacing `np.int`, you may wish to use e.g. `np.int64` or `np.int32` to specify the precision. If you wish to review your current use, check the release note link for additional information.\n",
      "Deprecated in NumPy 1.20; for more details and guidance: https://numpy.org/devdocs/release/1.20.0-notes.html#deprecations\n",
      "  ages = pd.Series(filepaths.apply(lambda x: os.path.split(os.path.split(x)[0])[1]), name='Age').astype(np.int)\n"
     ]
    }
   ],
   "source": [
    "image_dir = Path(r\"C:\\Users\\91832\\Downloads\\20-50\\20-50\")\n",
    "filepaths = pd.Series(list(image_dir.glob(r'**/*.jpg')), name='Filepath').astype(str)\n",
    "ages = pd.Series(filepaths.apply(lambda x: os.path.split(os.path.split(x)[0])[1]), name='Age').astype(np.int)\n",
    "\n",
    "images = pd.concat([filepaths, ages], axis=1).sample(frac=1.0, random_state=1).reset_index(drop=True)"
   ]
  },
  {
   "cell_type": "code",
   "execution_count": 22,
   "id": "99fa2654",
   "metadata": {},
   "outputs": [
    {
     "data": {
      "text/html": [
       "<div>\n",
       "<style scoped>\n",
       "    .dataframe tbody tr th:only-of-type {\n",
       "        vertical-align: middle;\n",
       "    }\n",
       "\n",
       "    .dataframe tbody tr th {\n",
       "        vertical-align: top;\n",
       "    }\n",
       "\n",
       "    .dataframe thead th {\n",
       "        text-align: right;\n",
       "    }\n",
       "</style>\n",
       "<table border=\"1\" class=\"dataframe\">\n",
       "  <thead>\n",
       "    <tr style=\"text-align: right;\">\n",
       "      <th></th>\n",
       "      <th>Filepath</th>\n",
       "      <th>Age</th>\n",
       "    </tr>\n",
       "  </thead>\n",
       "  <tbody>\n",
       "    <tr>\n",
       "      <th>0</th>\n",
       "      <td>C:\\Users\\91832\\Downloads\\20-50\\20-50\\test\\33\\4...</td>\n",
       "      <td>33</td>\n",
       "    </tr>\n",
       "    <tr>\n",
       "      <th>1</th>\n",
       "      <td>C:\\Users\\91832\\Downloads\\20-50\\20-50\\train\\30\\...</td>\n",
       "      <td>30</td>\n",
       "    </tr>\n",
       "    <tr>\n",
       "      <th>2</th>\n",
       "      <td>C:\\Users\\91832\\Downloads\\20-50\\20-50\\train\\40\\...</td>\n",
       "      <td>40</td>\n",
       "    </tr>\n",
       "    <tr>\n",
       "      <th>3</th>\n",
       "      <td>C:\\Users\\91832\\Downloads\\20-50\\20-50\\train\\32\\...</td>\n",
       "      <td>32</td>\n",
       "    </tr>\n",
       "    <tr>\n",
       "      <th>4</th>\n",
       "      <td>C:\\Users\\91832\\Downloads\\20-50\\20-50\\train\\22\\...</td>\n",
       "      <td>22</td>\n",
       "    </tr>\n",
       "    <tr>\n",
       "      <th>...</th>\n",
       "      <td>...</td>\n",
       "      <td>...</td>\n",
       "    </tr>\n",
       "    <tr>\n",
       "      <th>40435</th>\n",
       "      <td>C:\\Users\\91832\\Downloads\\20-50\\20-50\\train\\20\\...</td>\n",
       "      <td>20</td>\n",
       "    </tr>\n",
       "    <tr>\n",
       "      <th>40436</th>\n",
       "      <td>C:\\Users\\91832\\Downloads\\20-50\\20-50\\train\\43\\...</td>\n",
       "      <td>43</td>\n",
       "    </tr>\n",
       "    <tr>\n",
       "      <th>40437</th>\n",
       "      <td>C:\\Users\\91832\\Downloads\\20-50\\20-50\\test\\42\\3...</td>\n",
       "      <td>42</td>\n",
       "    </tr>\n",
       "    <tr>\n",
       "      <th>40438</th>\n",
       "      <td>C:\\Users\\91832\\Downloads\\20-50\\20-50\\train\\24\\...</td>\n",
       "      <td>24</td>\n",
       "    </tr>\n",
       "    <tr>\n",
       "      <th>40439</th>\n",
       "      <td>C:\\Users\\91832\\Downloads\\20-50\\20-50\\train\\43\\...</td>\n",
       "      <td>43</td>\n",
       "    </tr>\n",
       "  </tbody>\n",
       "</table>\n",
       "<p>40440 rows × 2 columns</p>\n",
       "</div>"
      ],
      "text/plain": [
       "                                                Filepath  Age\n",
       "0      C:\\Users\\91832\\Downloads\\20-50\\20-50\\test\\33\\4...   33\n",
       "1      C:\\Users\\91832\\Downloads\\20-50\\20-50\\train\\30\\...   30\n",
       "2      C:\\Users\\91832\\Downloads\\20-50\\20-50\\train\\40\\...   40\n",
       "3      C:\\Users\\91832\\Downloads\\20-50\\20-50\\train\\32\\...   32\n",
       "4      C:\\Users\\91832\\Downloads\\20-50\\20-50\\train\\22\\...   22\n",
       "...                                                  ...  ...\n",
       "40435  C:\\Users\\91832\\Downloads\\20-50\\20-50\\train\\20\\...   20\n",
       "40436  C:\\Users\\91832\\Downloads\\20-50\\20-50\\train\\43\\...   43\n",
       "40437  C:\\Users\\91832\\Downloads\\20-50\\20-50\\test\\42\\3...   42\n",
       "40438  C:\\Users\\91832\\Downloads\\20-50\\20-50\\train\\24\\...   24\n",
       "40439  C:\\Users\\91832\\Downloads\\20-50\\20-50\\train\\43\\...   43\n",
       "\n",
       "[40440 rows x 2 columns]"
      ]
     },
     "execution_count": 22,
     "metadata": {},
     "output_type": "execute_result"
    }
   ],
   "source": [
    "images"
   ]
  },
  {
   "cell_type": "code",
   "execution_count": 32,
   "id": "af519a3b",
   "metadata": {},
   "outputs": [],
   "source": [
    "# Let's only use 5000 images to speed up training time\n",
    "image_df = images.sample(40000, random_state=1).reset_index(drop=True)\n",
    "\n",
    "train_df, test_df = train_test_split(image_df, train_size=0.7, shuffle=True, random_state=1)"
   ]
  },
  {
   "cell_type": "code",
   "execution_count": 33,
   "id": "adff3d53",
   "metadata": {},
   "outputs": [],
   "source": [
    "train_generator = tf.keras.preprocessing.image.ImageDataGenerator(\n",
    "    rescale=1./255,\n",
    "    validation_split=0.2\n",
    ")\n",
    "\n",
    "test_generator = tf.keras.preprocessing.image.ImageDataGenerator(\n",
    "    rescale=1./255\n",
    ")"
   ]
  },
  {
   "cell_type": "code",
   "execution_count": 34,
   "id": "1a20b7f2",
   "metadata": {},
   "outputs": [
    {
     "data": {
      "text/html": [
       "<div>\n",
       "<style scoped>\n",
       "    .dataframe tbody tr th:only-of-type {\n",
       "        vertical-align: middle;\n",
       "    }\n",
       "\n",
       "    .dataframe tbody tr th {\n",
       "        vertical-align: top;\n",
       "    }\n",
       "\n",
       "    .dataframe thead th {\n",
       "        text-align: right;\n",
       "    }\n",
       "</style>\n",
       "<table border=\"1\" class=\"dataframe\">\n",
       "  <thead>\n",
       "    <tr style=\"text-align: right;\">\n",
       "      <th></th>\n",
       "      <th>Filepath</th>\n",
       "      <th>Age</th>\n",
       "    </tr>\n",
       "  </thead>\n",
       "  <tbody>\n",
       "    <tr>\n",
       "      <th>8224</th>\n",
       "      <td>C:\\Users\\91832\\Downloads\\20-50\\20-50\\test\\22\\3...</td>\n",
       "      <td>22</td>\n",
       "    </tr>\n",
       "    <tr>\n",
       "      <th>11219</th>\n",
       "      <td>C:\\Users\\91832\\Downloads\\20-50\\20-50\\train\\49\\...</td>\n",
       "      <td>49</td>\n",
       "    </tr>\n",
       "    <tr>\n",
       "      <th>17353</th>\n",
       "      <td>C:\\Users\\91832\\Downloads\\20-50\\20-50\\train\\41\\...</td>\n",
       "      <td>41</td>\n",
       "    </tr>\n",
       "    <tr>\n",
       "      <th>15305</th>\n",
       "      <td>C:\\Users\\91832\\Downloads\\20-50\\20-50\\train\\32\\...</td>\n",
       "      <td>32</td>\n",
       "    </tr>\n",
       "    <tr>\n",
       "      <th>30147</th>\n",
       "      <td>C:\\Users\\91832\\Downloads\\20-50\\20-50\\train\\47\\...</td>\n",
       "      <td>47</td>\n",
       "    </tr>\n",
       "    <tr>\n",
       "      <th>...</th>\n",
       "      <td>...</td>\n",
       "      <td>...</td>\n",
       "    </tr>\n",
       "    <tr>\n",
       "      <th>7813</th>\n",
       "      <td>C:\\Users\\91832\\Downloads\\20-50\\20-50\\train\\50\\...</td>\n",
       "      <td>50</td>\n",
       "    </tr>\n",
       "    <tr>\n",
       "      <th>32511</th>\n",
       "      <td>C:\\Users\\91832\\Downloads\\20-50\\20-50\\train\\50\\...</td>\n",
       "      <td>50</td>\n",
       "    </tr>\n",
       "    <tr>\n",
       "      <th>5192</th>\n",
       "      <td>C:\\Users\\91832\\Downloads\\20-50\\20-50\\train\\31\\...</td>\n",
       "      <td>31</td>\n",
       "    </tr>\n",
       "    <tr>\n",
       "      <th>12172</th>\n",
       "      <td>C:\\Users\\91832\\Downloads\\20-50\\20-50\\train\\30\\...</td>\n",
       "      <td>30</td>\n",
       "    </tr>\n",
       "    <tr>\n",
       "      <th>33003</th>\n",
       "      <td>C:\\Users\\91832\\Downloads\\20-50\\20-50\\train\\35\\...</td>\n",
       "      <td>35</td>\n",
       "    </tr>\n",
       "  </tbody>\n",
       "</table>\n",
       "<p>28000 rows × 2 columns</p>\n",
       "</div>"
      ],
      "text/plain": [
       "                                                Filepath  Age\n",
       "8224   C:\\Users\\91832\\Downloads\\20-50\\20-50\\test\\22\\3...   22\n",
       "11219  C:\\Users\\91832\\Downloads\\20-50\\20-50\\train\\49\\...   49\n",
       "17353  C:\\Users\\91832\\Downloads\\20-50\\20-50\\train\\41\\...   41\n",
       "15305  C:\\Users\\91832\\Downloads\\20-50\\20-50\\train\\32\\...   32\n",
       "30147  C:\\Users\\91832\\Downloads\\20-50\\20-50\\train\\47\\...   47\n",
       "...                                                  ...  ...\n",
       "7813   C:\\Users\\91832\\Downloads\\20-50\\20-50\\train\\50\\...   50\n",
       "32511  C:\\Users\\91832\\Downloads\\20-50\\20-50\\train\\50\\...   50\n",
       "5192   C:\\Users\\91832\\Downloads\\20-50\\20-50\\train\\31\\...   31\n",
       "12172  C:\\Users\\91832\\Downloads\\20-50\\20-50\\train\\30\\...   30\n",
       "33003  C:\\Users\\91832\\Downloads\\20-50\\20-50\\train\\35\\...   35\n",
       "\n",
       "[28000 rows x 2 columns]"
      ]
     },
     "execution_count": 34,
     "metadata": {},
     "output_type": "execute_result"
    }
   ],
   "source": [
    "train_df"
   ]
  },
  {
   "cell_type": "code",
   "execution_count": 35,
   "id": "6ca71236",
   "metadata": {},
   "outputs": [
    {
     "name": "stdout",
     "output_type": "stream",
     "text": [
      "Found 22400 validated image filenames.\n",
      "Found 5600 validated image filenames.\n",
      "Found 12000 validated image filenames.\n"
     ]
    }
   ],
   "source": [
    "train_images = train_generator.flow_from_dataframe(\n",
    "    dataframe=train_df,\n",
    "    x_col='Filepath',\n",
    "    y_col='Age',\n",
    "    target_size=(120, 120),\n",
    "    color_mode='rgb',\n",
    "    class_mode='raw',\n",
    "    batch_size=32,\n",
    "    shuffle=True,\n",
    "    seed=42,\n",
    "    subset='training'\n",
    ")\n",
    "\n",
    "val_images = train_generator.flow_from_dataframe(\n",
    "    dataframe=train_df,\n",
    "    x_col='Filepath',\n",
    "    y_col='Age',\n",
    "    target_size=(120, 120),\n",
    "    color_mode='rgb',\n",
    "    class_mode='raw',\n",
    "    batch_size=32,\n",
    "    shuffle=True,\n",
    "    seed=42,\n",
    "    subset='validation'\n",
    ")\n",
    "\n",
    "test_images = test_generator.flow_from_dataframe(\n",
    "    dataframe=test_df,\n",
    "    x_col='Filepath',\n",
    "    y_col='Age',\n",
    "    target_size=(120, 120),\n",
    "    color_mode='rgb',\n",
    "    class_mode='raw',\n",
    "    batch_size=32,\n",
    "    shuffle=False\n",
    ")"
   ]
  },
  {
   "cell_type": "code",
   "execution_count": 36,
   "id": "2c3b6abd",
   "metadata": {},
   "outputs": [
    {
     "name": "stdout",
     "output_type": "stream",
     "text": [
      "Epoch 1/70\n",
      "700/700 [==============================] - 134s 191ms/step - loss: 144.5019 - val_loss: 80.6823\n",
      "Epoch 2/70\n",
      "700/700 [==============================] - 103s 147ms/step - loss: 82.7811 - val_loss: 80.5485\n",
      "Epoch 3/70\n",
      "700/700 [==============================] - 105s 150ms/step - loss: 82.2030 - val_loss: 86.8280\n",
      "Epoch 4/70\n",
      "700/700 [==============================] - 103s 147ms/step - loss: 81.9612 - val_loss: 81.1217\n",
      "Epoch 5/70\n",
      "700/700 [==============================] - 103s 147ms/step - loss: 81.7397 - val_loss: 80.7220\n",
      "Epoch 6/70\n",
      "700/700 [==============================] - 104s 148ms/step - loss: 81.8220 - val_loss: 80.1702\n",
      "Epoch 7/70\n",
      "700/700 [==============================] - 103s 148ms/step - loss: 81.7474 - val_loss: 80.2557\n",
      "Epoch 8/70\n",
      "700/700 [==============================] - 103s 147ms/step - loss: 81.3240 - val_loss: 81.2318\n",
      "Epoch 9/70\n",
      "700/700 [==============================] - 104s 149ms/step - loss: 82.0222 - val_loss: 80.2801\n",
      "Epoch 10/70\n",
      "700/700 [==============================] - 101s 144ms/step - loss: 81.6082 - val_loss: 80.3062\n",
      "Epoch 11/70\n",
      "700/700 [==============================] - 101s 144ms/step - loss: 81.2327 - val_loss: 80.1093\n",
      "Epoch 12/70\n",
      "700/700 [==============================] - 100s 143ms/step - loss: 81.0195 - val_loss: 80.2355\n",
      "Epoch 13/70\n",
      "700/700 [==============================] - 99s 142ms/step - loss: 81.2195 - val_loss: 80.1764\n",
      "Epoch 14/70\n",
      "700/700 [==============================] - 99s 142ms/step - loss: 80.8880 - val_loss: 80.0969\n",
      "Epoch 15/70\n",
      "700/700 [==============================] - 99s 142ms/step - loss: 80.7932 - val_loss: 83.1553\n",
      "Epoch 16/70\n",
      "700/700 [==============================] - 99s 141ms/step - loss: 80.8202 - val_loss: 83.1405\n",
      "Epoch 17/70\n",
      "700/700 [==============================] - 99s 141ms/step - loss: 80.6569 - val_loss: 84.5285\n",
      "Epoch 18/70\n",
      "700/700 [==============================] - 100s 143ms/step - loss: 80.6322 - val_loss: 81.6172\n",
      "Epoch 19/70\n",
      "700/700 [==============================] - 98s 140ms/step - loss: 80.6863 - val_loss: 81.2173\n"
     ]
    }
   ],
   "source": [
    "inputs = tf.keras.Input(shape=(120, 120, 3))\n",
    "x = tf.keras.layers.Conv2D(filters=16, kernel_size=(3, 3), activation='relu')(inputs)\n",
    "x = tf.keras.layers.MaxPool2D()(x)\n",
    "x = tf.keras.layers.Conv2D(filters=32, kernel_size=(3, 3), activation='relu')(x)\n",
    "x = tf.keras.layers.MaxPool2D()(x)\n",
    "x = tf.keras.layers.GlobalAveragePooling2D()(x)\n",
    "x = tf.keras.layers.Dense(64, activation='relu')(x)\n",
    "x = tf.keras.layers.Dense(64, activation='relu')(x)\n",
    "outputs = tf.keras.layers.Dense(1, activation='linear')(x)\n",
    "\n",
    "model = tf.keras.Model(inputs=inputs, outputs=outputs)\n",
    "\n",
    "model.compile(\n",
    "    optimizer='adam',\n",
    "    loss='mse'\n",
    ")\n",
    "\n",
    "history = model.fit(\n",
    "    train_images,\n",
    "    validation_data=val_images,\n",
    "    epochs=70,\n",
    "    callbacks=[\n",
    "        tf.keras.callbacks.EarlyStopping(\n",
    "            monitor='val_loss',\n",
    "            patience=5,\n",
    "            restore_best_weights=True\n",
    "        )\n",
    "    ]\n",
    ")"
   ]
  },
  {
   "cell_type": "code",
   "execution_count": 42,
   "id": "0bf11028",
   "metadata": {},
   "outputs": [
    {
     "name": "stdout",
     "output_type": "stream",
     "text": [
      "     Test RMSE: 8.90826\n",
      "Test R^2 Score: 0.00565\n"
     ]
    }
   ],
   "source": [
    "predicted_ages = np.squeeze(model.predict(test_images))\n",
    "true_ages = test_images.labels\n",
    "\n",
    "rmse = np.sqrt(model.evaluate(test_images, verbose=0))\n",
    "print(\"     Test RMSE: {:.5f}\".format(rmse))\n",
    "\n",
    "r2 = r2_score(true_ages, predicted_ages)\n",
    "print(\"Test R^2 Score: {:.5f}\".format(r2))"
   ]
  },
  {
   "cell_type": "code",
   "execution_count": 43,
   "id": "ea83fb99",
   "metadata": {},
   "outputs": [
    {
     "name": "stdout",
     "output_type": "stream",
     "text": [
      "Null/Baseline Model Test RMSE: 8.93351\n"
     ]
    }
   ],
   "source": [
    "null_rmse = np.sqrt(np.sum((true_ages - np.mean(true_ages))**2) / len(true_ages))\n",
    "print(\"Null/Baseline Model Test RMSE: {:.5f}\".format(null_rmse))"
   ]
  },
  {
   "cell_type": "code",
   "execution_count": 44,
   "id": "93601d3e",
   "metadata": {},
   "outputs": [
    {
     "name": "stdout",
     "output_type": "stream",
     "text": [
      "INFO:tensorflow:Assets written to: modelage35.model\\assets\n"
     ]
    }
   ],
   "source": [
    "from keras.models import load_model\n",
    "\n",
    "model.save('modelage35.model')"
   ]
  },
  {
   "cell_type": "code",
   "execution_count": null,
   "id": "e43744d8",
   "metadata": {},
   "outputs": [],
   "source": []
  }
 ],
 "metadata": {
  "kernelspec": {
   "display_name": "Python 3 (ipykernel)",
   "language": "python",
   "name": "python3"
  },
  "language_info": {
   "codemirror_mode": {
    "name": "ipython",
    "version": 3
   },
   "file_extension": ".py",
   "mimetype": "text/x-python",
   "name": "python",
   "nbconvert_exporter": "python",
   "pygments_lexer": "ipython3",
   "version": "3.9.7"
  }
 },
 "nbformat": 4,
 "nbformat_minor": 5
}
